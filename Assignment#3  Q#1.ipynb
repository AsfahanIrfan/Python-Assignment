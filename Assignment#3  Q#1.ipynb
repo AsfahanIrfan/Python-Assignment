{
 "cells": [
  {
   "cell_type": "code",
   "execution_count": 2,
   "metadata": {},
   "outputs": [
    {
     "name": "stdout",
     "output_type": "stream",
     "text": [
      "Enter first value : 7\n",
      "Enter second value : 7\n",
      "Choose Operation\n",
      "For Addition +\n",
      "For Subtraction -\n",
      "For Multiplication *\n",
      "For Division //\n",
      "Division of 7 and 7 is 1.0\n"
     ]
    }
   ],
   "source": [
    "input1 = int(input(\"Enter first value : \"))\n",
    "input2 = int(input(\"Enter second value : \"))\n",
    "operator = input(\"Choose Operation\\nFor Addition +\\nFor Subtraction -\\nFor Multiplication *\\nFor Division /\")\n",
    "\n",
    "    \n",
    "if(operator == \"+\"):\n",
    "    print(\"Addition of {} and {} is {}\".format(input1,input2,(input1+input2)))\n",
    "elif(operator == \"-\"):\n",
    "    print(\"Subtraction of {} and {} is {}\".format(input1,input2,(input1-input2)))\n",
    "elif(operator == \"*\"):\n",
    "    print(\"Multiplication of {} and {} is {}\".format(input1,input2,(input1*input2)))\n",
    "elif(operator == \"/\"):\n",
    "    print(\"Division of {} and {} is {}\".format(input1,input2,(input1/input2)))\n",
    "else:\n",
    "    print(\"Wrong Choice.\\nPlease choose the correct operator.\")"
   ]
  },
  {
   "cell_type": "code",
   "execution_count": null,
   "metadata": {},
   "outputs": [],
   "source": []
  },
  {
   "cell_type": "code",
   "execution_count": null,
   "metadata": {},
   "outputs": [],
   "source": []
  }
 ],
 "metadata": {
  "kernelspec": {
   "display_name": "Python 3",
   "language": "python",
   "name": "python3"
  },
  "language_info": {
   "codemirror_mode": {
    "name": "ipython",
    "version": 3
   },
   "file_extension": ".py",
   "mimetype": "text/x-python",
   "name": "python",
   "nbconvert_exporter": "python",
   "pygments_lexer": "ipython3",
   "version": "3.7.4"
  }
 },
 "nbformat": 4,
 "nbformat_minor": 2
}
