{
 "cells": [
  {
   "cell_type": "code",
   "execution_count": 1,
   "metadata": {},
   "outputs": [
    {
     "name": "stdout",
     "output_type": "stream",
     "text": [
      "Before Operation  {1: 10, 2: 20, 3: 30, 4: 40}\n",
      "Enter Key1\n",
      "Enter Value45\n",
      "This key already exist operation fail\n",
      "After Operation  {1: 10, 2: 20, 3: 30, 4: 40}\n"
     ]
    }
   ],
   "source": [
    "dict2 = {1:10, 2:20,3:30,4:40}\n",
    "flag = False\n",
    "print(\"Before Operation \",dict2)\n",
    "\n",
    "key = int(input(\"Enter Key\"))\n",
    "value = int(input(\"Enter Value\"))\n",
    "for val in dict2:\n",
    "    if(val == key):\n",
    "        print(\"This key already exist operation fail\")\n",
    "        flag = True\n",
    "        break\n",
    "\n",
    "if(flag == False):\n",
    "    dict2.update({key,value})\n",
    "\n",
    "\n",
    "print(\"After Operation \",dict2)"
   ]
  },
  {
   "cell_type": "code",
   "execution_count": null,
   "metadata": {},
   "outputs": [],
   "source": []
  }
 ],
 "metadata": {
  "kernelspec": {
   "display_name": "Python 3",
   "language": "python",
   "name": "python3"
  },
  "language_info": {
   "codemirror_mode": {
    "name": "ipython",
    "version": 3
   },
   "file_extension": ".py",
   "mimetype": "text/x-python",
   "name": "python",
   "nbconvert_exporter": "python",
   "pygments_lexer": "ipython3",
   "version": "3.7.4"
  }
 },
 "nbformat": 4,
 "nbformat_minor": 2
}
