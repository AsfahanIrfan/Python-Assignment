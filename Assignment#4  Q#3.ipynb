{
 "cells": [
  {
   "cell_type": "code",
   "execution_count": 1,
   "metadata": {},
   "outputs": [
    {
     "name": "stdout",
     "output_type": "stream",
     "text": [
      "Enter your age :2\n",
      "The ticket cost is free\n",
      "Enter your age :8\n",
      "The ticket cost is $10\n",
      "Enter your age :20\n",
      "The ticket cost is $15\n",
      "Enter your age :4\n",
      "The ticket cost is $10\n",
      "Enter your age :2\n",
      "The ticket cost is free\n"
     ]
    }
   ],
   "source": [
    "i = 0\n",
    "while(i < 5):\n",
    "    age = int(input(\"Enter your age :\"))\n",
    "    if(age < 3):\n",
    "        print(\"The ticket cost is free\")\n",
    "    elif(age >= 3 and age <= 12):\n",
    "        print(\"The ticket cost is $10\")\n",
    "    elif(age > 12):\n",
    "        print(\"The ticket cost is $15\")\n",
    "    i+=1"
   ]
  },
  {
   "cell_type": "code",
   "execution_count": null,
   "metadata": {},
   "outputs": [],
   "source": []
  }
 ],
 "metadata": {
  "kernelspec": {
   "display_name": "Python 3",
   "language": "python",
   "name": "python3"
  },
  "language_info": {
   "codemirror_mode": {
    "name": "ipython",
    "version": 3
   },
   "file_extension": ".py",
   "mimetype": "text/x-python",
   "name": "python",
   "nbconvert_exporter": "python",
   "pygments_lexer": "ipython3",
   "version": "3.7.4"
  }
 },
 "nbformat": 4,
 "nbformat_minor": 2
}
