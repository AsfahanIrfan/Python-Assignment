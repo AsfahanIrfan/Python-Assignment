{
 "cells": [
  {
   "cell_type": "code",
   "execution_count": 1,
   "metadata": {},
   "outputs": [
    {
     "name": "stdout",
     "output_type": "stream",
     "text": [
      "nafrI nahafsA\n"
     ]
    }
   ],
   "source": [
    "\n",
    "def user(fName,lName):\n",
    "    fullName = fName+\" \"+lName\n",
    "    reversedString=\"\"\n",
    "    i = len(fullName) \n",
    "    while i > 0: \n",
    "        reversedString += fullName[ i - 1 ]\n",
    "        i = i - 1 \n",
    "    print(reversedString)\n",
    "\n",
    "user(\"Asfahan\",\"Irfan\")"
   ]
  },
  {
   "cell_type": "code",
   "execution_count": null,
   "metadata": {},
   "outputs": [],
   "source": []
  }
 ],
 "metadata": {
  "kernelspec": {
   "display_name": "Python 3",
   "language": "python",
   "name": "python3"
  },
  "language_info": {
   "codemirror_mode": {
    "name": "ipython",
    "version": 3
   },
   "file_extension": ".py",
   "mimetype": "text/x-python",
   "name": "python",
   "nbconvert_exporter": "python",
   "pygments_lexer": "ipython3",
   "version": "3.7.4"
  }
 },
 "nbformat": 4,
 "nbformat_minor": 2
}
