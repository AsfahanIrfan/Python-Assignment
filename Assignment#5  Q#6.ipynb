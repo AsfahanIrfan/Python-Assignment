{
 "cells": [
  {
   "cell_type": "code",
   "execution_count": 1,
   "metadata": {},
   "outputs": [
    {
     "name": "stdout",
     "output_type": "stream",
     "text": [
      "The Person is Bought  Egg Yogurt \n",
      "The Person is Bought  Egg Yogurt Milk \n",
      "The Person is Bought  Egg Yogurt Tomato Onion Butter \n"
     ]
    }
   ],
   "source": [
    "def shoppingItems(*items):\n",
    "    newItems = \" \"\n",
    "    for item in items:\n",
    "        newItems += item +\" \"\n",
    "    print(\"The Person is Bought\",newItems)\n",
    "\n",
    "shoppingItems(\"Egg\",\"Yogurt\")\n",
    "shoppingItems(\"Egg\",\"Yogurt\",\"Milk\")\n",
    "shoppingItems(\"Egg\",\"Yogurt\",\"Tomato\",\"Onion\",\"Butter\")"
   ]
  },
  {
   "cell_type": "code",
   "execution_count": null,
   "metadata": {},
   "outputs": [],
   "source": []
  }
 ],
 "metadata": {
  "kernelspec": {
   "display_name": "Python 3",
   "language": "python",
   "name": "python3"
  },
  "language_info": {
   "codemirror_mode": {
    "name": "ipython",
    "version": 3
   },
   "file_extension": ".py",
   "mimetype": "text/x-python",
   "name": "python",
   "nbconvert_exporter": "python",
   "pygments_lexer": "ipython3",
   "version": "3.7.4"
  }
 },
 "nbformat": 4,
 "nbformat_minor": 2
}
