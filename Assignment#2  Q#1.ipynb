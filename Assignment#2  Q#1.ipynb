{
 "cells": [
  {
   "cell_type": "code",
   "execution_count": 1,
   "metadata": {},
   "outputs": [
    {
     "name": "stdout",
     "output_type": "stream",
     "text": [
      " MARK SHEET \n",
      "Enter number English : 66\n",
      "Enter number Maths : 76\n",
      "Enter number Computer : 89\n",
      "Enter number Chemistry : 98\n",
      "Enter number Urdu : 87\n",
      "Total Number\n",
      "416\n",
      "Percentage\n",
      "83.2\n",
      "Grade\n",
      "A+\n"
     ]
    }
   ],
   "source": [
    "print(\" MARK SHEET \")\n",
    "English = int(input(\"Enter number English : \")) \n",
    "Maths = int(input(\"Enter number Maths : \")) \n",
    "Computer = int(input(\"Enter number Computer : \")) \n",
    "Chemistry = int(input(\"Enter number Chemistry : \")) \n",
    "Urdu = int(input(\"Enter number Urdu : \")) \n",
    "Total = English + Maths + Computer + Chemistry + Urdu\n",
    "print(\"Total Number\")\n",
    "print(Total)\n",
    "percent = Total / 500 * 100\n",
    "print(\"Percentage\")\n",
    "print(percent)\n",
    "print(\"Grade\")\n",
    "if percent >= 80 and percent <=100 :\n",
    "    print(\"A+\")\n",
    "elif percent >=70 and percent < 80 :\n",
    "    print(\"A\")\n",
    "elif percent >=60 and percent < 70 :\n",
    "    print(\"B\")\n",
    "elif percent >=50 and percent < 60 :\n",
    "    print(\"c\")\n",
    "elif percent >=40 and percent < 50 :\n",
    "    print(\"D\") \n",
    "elif percent >=33 and percent < 40 :\n",
    "    print(\"E\")\n",
    "elif percent >=0 and percent < 33 :\n",
    "    print(\"F\")\n",
    "else :\n",
    "    print(\"you have inappropriate percentage\")"
   ]
  },
  {
   "cell_type": "code",
   "execution_count": null,
   "metadata": {},
   "outputs": [],
   "source": []
  }
 ],
 "metadata": {
  "kernelspec": {
   "display_name": "Python 3",
   "language": "python",
   "name": "python3"
  },
  "language_info": {
   "codemirror_mode": {
    "name": "ipython",
    "version": 3
   },
   "file_extension": ".py",
   "mimetype": "text/x-python",
   "name": "python",
   "nbconvert_exporter": "python",
   "pygments_lexer": "ipython3",
   "version": "3.7.4"
  }
 },
 "nbformat": 4,
 "nbformat_minor": 2
}
