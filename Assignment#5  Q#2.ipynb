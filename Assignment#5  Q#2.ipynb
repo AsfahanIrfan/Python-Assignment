{
 "cells": [
  {
   "cell_type": "code",
   "execution_count": 1,
   "metadata": {},
   "outputs": [
    {
     "name": "stdout",
     "output_type": "stream",
     "text": [
      "Total Number of Upper case is :  6\n",
      "Total Number of Lower case is :  6\n"
     ]
    }
   ],
   "source": [
    "def takeStr(name):\n",
    "    upperCase = 0\n",
    "    lowerCase = 0\n",
    "    for i in range(len(name)):\n",
    "        if(name[i].isupper()):\n",
    "            upperCase += 1\n",
    "        elif(name[i].islower()):\n",
    "            lowerCase += 1\n",
    "    print(\"Total Number of Upper case is : \",upperCase)\n",
    "    print(\"Total Number of Lower case is : \",lowerCase)\n",
    "\n",
    "takeStr('Asfahan IRFAN')"
   ]
  },
  {
   "cell_type": "code",
   "execution_count": null,
   "metadata": {},
   "outputs": [],
   "source": []
  }
 ],
 "metadata": {
  "kernelspec": {
   "display_name": "Python 3",
   "language": "python",
   "name": "python3"
  },
  "language_info": {
   "codemirror_mode": {
    "name": "ipython",
    "version": 3
   },
   "file_extension": ".py",
   "mimetype": "text/x-python",
   "name": "python",
   "nbconvert_exporter": "python",
   "pygments_lexer": "ipython3",
   "version": "3.7.4"
  }
 },
 "nbformat": 4,
 "nbformat_minor": 2
}
