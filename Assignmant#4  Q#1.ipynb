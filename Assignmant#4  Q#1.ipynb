{
 "cells": [
  {
   "cell_type": "code",
   "execution_count": 4,
   "metadata": {},
   "outputs": [
    {
     "name": "stdout",
     "output_type": "stream",
     "text": [
      "My name is Asfahan Irfan and i am 21 year old, and i lived in karachi\n",
      "\n",
      "After updation\n",
      "My name is Asfahan Irfan and i am 21 year old, and i lived in karachi and i am doing BS - Software Engineering\n",
      "\n",
      "After Deletion\n",
      "My name is Asfahan Irfan and i am 21 year old, and i lived in karachi\n"
     ]
    }
   ],
   "source": [
    "person = {\n",
    "    \"fName\" : \"Asfahan\",\n",
    "    \"lName\" : \"Irfan\",\n",
    "    \"age\"   : 21,\n",
    "    \"city\"  : \"karachi\" \n",
    "}\n",
    "print(\"My name is \"+person[\"fName\"]+\" \"+person[\"lName\"]+\" and i am \"+str(person[\"age\"])+\" year old, and i lived in \"+person[\"city\"])\n",
    "\n",
    "person[\"qualification\"] = \"BS - Software Engineering\"\n",
    "print(\"\\nAfter updation\")\n",
    "print(\"My name is \"+person[\"fName\"]+\" \"+person[\"lName\"]+\" and i am \"+str(person[\"age\"])+\" year old, and i lived in \"+person[\"city\"]+\" and i am doing \"+person[\"qualification\"])\n",
    "\n",
    "del person[\"qualification\"]\n",
    "print(\"\\nAfter Deletion\")\n",
    "print(\"My name is \"+person[\"fName\"]+\" \"+person[\"lName\"]+\" and i am \"+str(person[\"age\"])+\" year old, and i lived in \"+person[\"city\"])"
   ]
  },
  {
   "cell_type": "code",
   "execution_count": null,
   "metadata": {},
   "outputs": [],
   "source": []
  }
 ],
 "metadata": {
  "kernelspec": {
   "display_name": "Python 3",
   "language": "python",
   "name": "python3"
  },
  "language_info": {
   "codemirror_mode": {
    "name": "ipython",
    "version": 3
   },
   "file_extension": ".py",
   "mimetype": "text/x-python",
   "name": "python",
   "nbconvert_exporter": "python",
   "pygments_lexer": "ipython3",
   "version": "3.7.4"
  }
 },
 "nbformat": 4,
 "nbformat_minor": 2
}
