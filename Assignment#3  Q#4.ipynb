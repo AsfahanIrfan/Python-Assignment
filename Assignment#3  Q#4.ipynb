{
 "cells": [
  {
   "cell_type": "code",
   "execution_count": 1,
   "metadata": {},
   "outputs": [
    {
     "name": "stdout",
     "output_type": "stream",
     "text": [
      "Sum of total numbers in list is : 100\n"
     ]
    }
   ],
   "source": [
    "dict2 = {0:10, 1:20,3:30,4:40}\n",
    "sum = 0\n",
    "for val in dict2:\n",
    "    sum = sum + dict2[val]\n",
    "print(\"Sum of total numbers in list is : {}\".format(sum))"
   ]
  },
  {
   "cell_type": "code",
   "execution_count": null,
   "metadata": {},
   "outputs": [],
   "source": []
  }
 ],
 "metadata": {
  "kernelspec": {
   "display_name": "Python 3",
   "language": "python",
   "name": "python3"
  },
  "language_info": {
   "codemirror_mode": {
    "name": "ipython",
    "version": 3
   },
   "file_extension": ".py",
   "mimetype": "text/x-python",
   "name": "python",
   "nbconvert_exporter": "python",
   "pygments_lexer": "ipython3",
   "version": "3.7.4"
  }
 },
 "nbformat": 4,
 "nbformat_minor": 2
}
