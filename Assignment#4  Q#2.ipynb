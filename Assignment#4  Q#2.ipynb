{
 "cells": [
  {
   "cell_type": "code",
   "execution_count": 1,
   "metadata": {},
   "outputs": [
    {
     "name": "stdout",
     "output_type": "stream",
     "text": [
      "Karachi is the city of Pakistan and it's population is 14.91m and one fact about Karachi is Karachi is the largest city of Pakistan and the world’s second most populous town\n",
      "Lahore is the city of Pakistan and it's population is 11.13m and one fact about Lahore is Lahore is the second biggest city in Pakistan.\n",
      "Paris is the city of France and it's population is 2.141m and one fact about Paris is Paris was originally a Roman City called “Lutetia.”.\n"
     ]
    }
   ],
   "source": [
    "karachi = {\n",
    "    'name':'Karachi',\n",
    "    'country':'Pakistan',\n",
    "    'population':14.91,\n",
    "    'fact':'Karachi is the largest city of Pakistan and the world’s second most populous town'\n",
    "          }\n",
    "lahore = {\n",
    "    'name':'Lahore',\n",
    "    'country':'Pakistan',\n",
    "    'population':11.13,\n",
    "    'fact':'Lahore is the second biggest city in Pakistan.'\n",
    "         }\n",
    "paris = {\n",
    "    'name':'Paris',\n",
    "    'country':'France',\n",
    "    'population':2.141 ,\n",
    "    'fact':'Paris was originally a Roman City called “Lutetia.”.'\n",
    "        }\n",
    "cities = {'karachi':karachi ,\n",
    "          'lahore':lahore,\n",
    "          'paris':paris \n",
    "         }\n",
    "\n",
    "for city in cities.values():\n",
    "    print(city[\"name\"]+\" is the city of \"+city[\"country\"]+\" and it's population is \"+str(city['population'])+\"m and one fact about \"+city[\"name\"]+\" is \"+ city[\"fact\"])"
   ]
  },
  {
   "cell_type": "code",
   "execution_count": null,
   "metadata": {},
   "outputs": [],
   "source": []
  }
 ],
 "metadata": {
  "kernelspec": {
   "display_name": "Python 3",
   "language": "python",
   "name": "python3"
  },
  "language_info": {
   "codemirror_mode": {
    "name": "ipython",
    "version": 3
   },
   "file_extension": ".py",
   "mimetype": "text/x-python",
   "name": "python",
   "nbconvert_exporter": "python",
   "pygments_lexer": "ipython3",
   "version": "3.7.4"
  }
 },
 "nbformat": 4,
 "nbformat_minor": 2
}
