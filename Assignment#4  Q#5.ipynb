{
 "cells": [
  {
   "cell_type": "code",
   "execution_count": 2,
   "metadata": {},
   "outputs": [
    {
     "name": "stdout",
     "output_type": "stream",
     "text": [
      "Guess number 20\n",
      "your number is smaller\n",
      "Chances left :  2 \n",
      "\n",
      "\n",
      "Guess number 30\n",
      "Your number is greater\n",
      "Chances left :  1 \n",
      "\n",
      "\n",
      "Guess number 25\n",
      "Your number is greater\n",
      "Chances left :  0 \n",
      "\n",
      "\n",
      "Sorry, you loose\n"
     ]
    }
   ],
   "source": [
    "from random import randint\n",
    "\n",
    "chances = 3\n",
    "\n",
    "num = randint(0, 30)\n",
    "\n",
    "for i in range(3):\n",
    "    chances -= 1\n",
    "    answer = int(input(\"Guess number \"))\n",
    "    if(answer > num):\n",
    "        print(\"Your number is greater\");\n",
    "    elif(answer < num):\n",
    "        print(\"your number is smaller\");\n",
    "    elif(answer == num):\n",
    "        print(\"Congratulations you guess the right number\")\n",
    "    print(\"Chances left : \",chances,\"\\n\\n\")    \n",
    "    if(chances == 0 and answer != num):\n",
    "        print(\"Sorry, you loose\")"
   ]
  },
  {
   "cell_type": "code",
   "execution_count": null,
   "metadata": {},
   "outputs": [],
   "source": []
  },
  {
   "cell_type": "code",
   "execution_count": null,
   "metadata": {},
   "outputs": [],
   "source": []
  }
 ],
 "metadata": {
  "kernelspec": {
   "display_name": "Python 3",
   "language": "python",
   "name": "python3"
  },
  "language_info": {
   "codemirror_mode": {
    "name": "ipython",
    "version": 3
   },
   "file_extension": ".py",
   "mimetype": "text/x-python",
   "name": "python",
   "nbconvert_exporter": "python",
   "pygments_lexer": "ipython3",
   "version": "3.7.4"
  }
 },
 "nbformat": 4,
 "nbformat_minor": 2
}
